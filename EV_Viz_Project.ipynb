{
 "cells": [
  {
   "cell_type": "markdown",
   "id": "5b4ca6fe",
   "metadata": {},
   "source": [
    "## Import Libraries"
   ]
  },
  {
   "cell_type": "code",
   "execution_count": 88,
   "id": "c1e76413",
   "metadata": {},
   "outputs": [],
   "source": [
    "import pandas as pd\n",
    "import numpy as np\n",
    "import random\n",
    "import re\n",
    "import matplotlib.pyplot as plt\n",
    "import seaborn as sns\n",
    "import plotly.graph_objects as go"
   ]
  },
  {
   "cell_type": "markdown",
   "id": "f4551278",
   "metadata": {},
   "source": [
    "## Import Data"
   ]
  },
  {
   "cell_type": "code",
   "execution_count": 2,
   "id": "13ab95e6",
   "metadata": {
    "scrolled": true
   },
   "outputs": [
    {
     "data": {
      "text/html": [
       "<div>\n",
       "<style scoped>\n",
       "    .dataframe tbody tr th:only-of-type {\n",
       "        vertical-align: middle;\n",
       "    }\n",
       "\n",
       "    .dataframe tbody tr th {\n",
       "        vertical-align: top;\n",
       "    }\n",
       "\n",
       "    .dataframe thead th {\n",
       "        text-align: right;\n",
       "    }\n",
       "</style>\n",
       "<table border=\"1\" class=\"dataframe\">\n",
       "  <thead>\n",
       "    <tr style=\"text-align: right;\">\n",
       "      <th></th>\n",
       "      <th>VIN (1-10)</th>\n",
       "      <th>County</th>\n",
       "      <th>City</th>\n",
       "      <th>State</th>\n",
       "      <th>Postal Code</th>\n",
       "      <th>Model Year</th>\n",
       "      <th>Make</th>\n",
       "      <th>Model</th>\n",
       "      <th>Electric Vehicle Type</th>\n",
       "      <th>Clean Alternative Fuel Vehicle (CAFV) Eligibility</th>\n",
       "      <th>Electric Range</th>\n",
       "      <th>Base MSRP</th>\n",
       "      <th>Legislative District</th>\n",
       "      <th>DOL Vehicle ID</th>\n",
       "      <th>Vehicle Location</th>\n",
       "      <th>Electric Utility</th>\n",
       "      <th>2020 Census Tract</th>\n",
       "    </tr>\n",
       "  </thead>\n",
       "  <tbody>\n",
       "    <tr>\n",
       "      <th>0</th>\n",
       "      <td>3C3CFFGE4E</td>\n",
       "      <td>Yakima</td>\n",
       "      <td>Yakima</td>\n",
       "      <td>WA</td>\n",
       "      <td>98902.0</td>\n",
       "      <td>2014</td>\n",
       "      <td>FIAT</td>\n",
       "      <td>500</td>\n",
       "      <td>Battery Electric Vehicle (BEV)</td>\n",
       "      <td>Clean Alternative Fuel Vehicle Eligible</td>\n",
       "      <td>87</td>\n",
       "      <td>0</td>\n",
       "      <td>14.0</td>\n",
       "      <td>1593721</td>\n",
       "      <td>POINT (-120.524012 46.5973939)</td>\n",
       "      <td>PACIFICORP</td>\n",
       "      <td>5.307700e+10</td>\n",
       "    </tr>\n",
       "    <tr>\n",
       "      <th>1</th>\n",
       "      <td>5YJXCBE40H</td>\n",
       "      <td>Thurston</td>\n",
       "      <td>Olympia</td>\n",
       "      <td>WA</td>\n",
       "      <td>98513.0</td>\n",
       "      <td>2017</td>\n",
       "      <td>TESLA</td>\n",
       "      <td>MODEL X</td>\n",
       "      <td>Battery Electric Vehicle (BEV)</td>\n",
       "      <td>Clean Alternative Fuel Vehicle Eligible</td>\n",
       "      <td>200</td>\n",
       "      <td>0</td>\n",
       "      <td>2.0</td>\n",
       "      <td>257167501</td>\n",
       "      <td>POINT (-122.817545 46.98876)</td>\n",
       "      <td>PUGET SOUND ENERGY INC</td>\n",
       "      <td>5.306701e+10</td>\n",
       "    </tr>\n",
       "    <tr>\n",
       "      <th>2</th>\n",
       "      <td>3MW39FS03P</td>\n",
       "      <td>King</td>\n",
       "      <td>Renton</td>\n",
       "      <td>WA</td>\n",
       "      <td>98058.0</td>\n",
       "      <td>2023</td>\n",
       "      <td>BMW</td>\n",
       "      <td>330E</td>\n",
       "      <td>Plug-in Hybrid Electric Vehicle (PHEV)</td>\n",
       "      <td>Not eligible due to low battery range</td>\n",
       "      <td>20</td>\n",
       "      <td>0</td>\n",
       "      <td>11.0</td>\n",
       "      <td>224071816</td>\n",
       "      <td>POINT (-122.1298876 47.4451257)</td>\n",
       "      <td>PUGET SOUND ENERGY INC||CITY OF TACOMA - (WA)</td>\n",
       "      <td>5.303303e+10</td>\n",
       "    </tr>\n",
       "    <tr>\n",
       "      <th>3</th>\n",
       "      <td>7PDSGABA8P</td>\n",
       "      <td>Snohomish</td>\n",
       "      <td>Bothell</td>\n",
       "      <td>WA</td>\n",
       "      <td>98012.0</td>\n",
       "      <td>2023</td>\n",
       "      <td>RIVIAN</td>\n",
       "      <td>R1S</td>\n",
       "      <td>Battery Electric Vehicle (BEV)</td>\n",
       "      <td>Eligibility unknown as battery range has not b...</td>\n",
       "      <td>0</td>\n",
       "      <td>0</td>\n",
       "      <td>21.0</td>\n",
       "      <td>260084653</td>\n",
       "      <td>POINT (-122.1873 47.820245)</td>\n",
       "      <td>PUGET SOUND ENERGY INC</td>\n",
       "      <td>5.306105e+10</td>\n",
       "    </tr>\n",
       "    <tr>\n",
       "      <th>4</th>\n",
       "      <td>5YJ3E1EB8L</td>\n",
       "      <td>King</td>\n",
       "      <td>Kent</td>\n",
       "      <td>WA</td>\n",
       "      <td>98031.0</td>\n",
       "      <td>2020</td>\n",
       "      <td>TESLA</td>\n",
       "      <td>MODEL 3</td>\n",
       "      <td>Battery Electric Vehicle (BEV)</td>\n",
       "      <td>Clean Alternative Fuel Vehicle Eligible</td>\n",
       "      <td>322</td>\n",
       "      <td>0</td>\n",
       "      <td>33.0</td>\n",
       "      <td>253771913</td>\n",
       "      <td>POINT (-122.2012521 47.3931814)</td>\n",
       "      <td>PUGET SOUND ENERGY INC||CITY OF TACOMA - (WA)</td>\n",
       "      <td>5.303303e+10</td>\n",
       "    </tr>\n",
       "  </tbody>\n",
       "</table>\n",
       "</div>"
      ],
      "text/plain": [
       "   VIN (1-10)     County     City State  Postal Code  Model Year    Make  \\\n",
       "0  3C3CFFGE4E     Yakima   Yakima    WA      98902.0        2014    FIAT   \n",
       "1  5YJXCBE40H   Thurston  Olympia    WA      98513.0        2017   TESLA   \n",
       "2  3MW39FS03P       King   Renton    WA      98058.0        2023     BMW   \n",
       "3  7PDSGABA8P  Snohomish  Bothell    WA      98012.0        2023  RIVIAN   \n",
       "4  5YJ3E1EB8L       King     Kent    WA      98031.0        2020   TESLA   \n",
       "\n",
       "     Model                   Electric Vehicle Type  \\\n",
       "0      500          Battery Electric Vehicle (BEV)   \n",
       "1  MODEL X          Battery Electric Vehicle (BEV)   \n",
       "2     330E  Plug-in Hybrid Electric Vehicle (PHEV)   \n",
       "3      R1S          Battery Electric Vehicle (BEV)   \n",
       "4  MODEL 3          Battery Electric Vehicle (BEV)   \n",
       "\n",
       "   Clean Alternative Fuel Vehicle (CAFV) Eligibility  Electric Range  \\\n",
       "0            Clean Alternative Fuel Vehicle Eligible              87   \n",
       "1            Clean Alternative Fuel Vehicle Eligible             200   \n",
       "2              Not eligible due to low battery range              20   \n",
       "3  Eligibility unknown as battery range has not b...               0   \n",
       "4            Clean Alternative Fuel Vehicle Eligible             322   \n",
       "\n",
       "   Base MSRP  Legislative District  DOL Vehicle ID  \\\n",
       "0          0                  14.0         1593721   \n",
       "1          0                   2.0       257167501   \n",
       "2          0                  11.0       224071816   \n",
       "3          0                  21.0       260084653   \n",
       "4          0                  33.0       253771913   \n",
       "\n",
       "                  Vehicle Location  \\\n",
       "0   POINT (-120.524012 46.5973939)   \n",
       "1     POINT (-122.817545 46.98876)   \n",
       "2  POINT (-122.1298876 47.4451257)   \n",
       "3      POINT (-122.1873 47.820245)   \n",
       "4  POINT (-122.2012521 47.3931814)   \n",
       "\n",
       "                                Electric Utility  2020 Census Tract  \n",
       "0                                     PACIFICORP       5.307700e+10  \n",
       "1                         PUGET SOUND ENERGY INC       5.306701e+10  \n",
       "2  PUGET SOUND ENERGY INC||CITY OF TACOMA - (WA)       5.303303e+10  \n",
       "3                         PUGET SOUND ENERGY INC       5.306105e+10  \n",
       "4  PUGET SOUND ENERGY INC||CITY OF TACOMA - (WA)       5.303303e+10  "
      ]
     },
     "execution_count": 2,
     "metadata": {},
     "output_type": "execute_result"
    }
   ],
   "source": [
    "df = pd.read_csv('E:\\Everything Study\\GWU\\Sem 2\\Visualization of Complex Data\\Project\\Electric_Vehicle_Population_Data.csv')\n",
    "df.head()"
   ]
  },
  {
   "cell_type": "markdown",
   "id": "f0baa1ac",
   "metadata": {},
   "source": [
    "## Data Exploration"
   ]
  },
  {
   "cell_type": "code",
   "execution_count": 3,
   "id": "e4956fdf",
   "metadata": {},
   "outputs": [
    {
     "data": {
      "text/plain": [
       "(166800, 17)"
      ]
     },
     "execution_count": 3,
     "metadata": {},
     "output_type": "execute_result"
    }
   ],
   "source": [
    "df.shape"
   ]
  },
  {
   "cell_type": "code",
   "execution_count": 4,
   "id": "687c211d",
   "metadata": {},
   "outputs": [
    {
     "data": {
      "text/html": [
       "<div>\n",
       "<style scoped>\n",
       "    .dataframe tbody tr th:only-of-type {\n",
       "        vertical-align: middle;\n",
       "    }\n",
       "\n",
       "    .dataframe tbody tr th {\n",
       "        vertical-align: top;\n",
       "    }\n",
       "\n",
       "    .dataframe thead th {\n",
       "        text-align: right;\n",
       "    }\n",
       "</style>\n",
       "<table border=\"1\" class=\"dataframe\">\n",
       "  <thead>\n",
       "    <tr style=\"text-align: right;\">\n",
       "      <th></th>\n",
       "      <th>Postal Code</th>\n",
       "      <th>Model Year</th>\n",
       "      <th>Electric Range</th>\n",
       "      <th>Base MSRP</th>\n",
       "      <th>Legislative District</th>\n",
       "      <th>DOL Vehicle ID</th>\n",
       "      <th>2020 Census Tract</th>\n",
       "    </tr>\n",
       "  </thead>\n",
       "  <tbody>\n",
       "    <tr>\n",
       "      <th>count</th>\n",
       "      <td>166795.000000</td>\n",
       "      <td>166800.000000</td>\n",
       "      <td>166800.000000</td>\n",
       "      <td>166800.000000</td>\n",
       "      <td>166440.000000</td>\n",
       "      <td>1.668000e+05</td>\n",
       "      <td>1.667950e+05</td>\n",
       "    </tr>\n",
       "    <tr>\n",
       "      <th>mean</th>\n",
       "      <td>98173.713750</td>\n",
       "      <td>2020.341793</td>\n",
       "      <td>61.508993</td>\n",
       "      <td>1152.723171</td>\n",
       "      <td>29.178941</td>\n",
       "      <td>2.172420e+08</td>\n",
       "      <td>5.297709e+10</td>\n",
       "    </tr>\n",
       "    <tr>\n",
       "      <th>std</th>\n",
       "      <td>2442.584415</td>\n",
       "      <td>3.001465</td>\n",
       "      <td>93.271747</td>\n",
       "      <td>8661.081091</td>\n",
       "      <td>14.853534</td>\n",
       "      <td>7.727458e+07</td>\n",
       "      <td>1.569754e+09</td>\n",
       "    </tr>\n",
       "    <tr>\n",
       "      <th>min</th>\n",
       "      <td>1730.000000</td>\n",
       "      <td>1997.000000</td>\n",
       "      <td>0.000000</td>\n",
       "      <td>0.000000</td>\n",
       "      <td>1.000000</td>\n",
       "      <td>4.385000e+03</td>\n",
       "      <td>1.001020e+09</td>\n",
       "    </tr>\n",
       "    <tr>\n",
       "      <th>25%</th>\n",
       "      <td>98052.000000</td>\n",
       "      <td>2018.000000</td>\n",
       "      <td>0.000000</td>\n",
       "      <td>0.000000</td>\n",
       "      <td>18.000000</td>\n",
       "      <td>1.790741e+08</td>\n",
       "      <td>5.303301e+10</td>\n",
       "    </tr>\n",
       "    <tr>\n",
       "      <th>50%</th>\n",
       "      <td>98122.000000</td>\n",
       "      <td>2021.000000</td>\n",
       "      <td>0.000000</td>\n",
       "      <td>0.000000</td>\n",
       "      <td>33.000000</td>\n",
       "      <td>2.244045e+08</td>\n",
       "      <td>5.303303e+10</td>\n",
       "    </tr>\n",
       "    <tr>\n",
       "      <th>75%</th>\n",
       "      <td>98371.000000</td>\n",
       "      <td>2023.000000</td>\n",
       "      <td>84.000000</td>\n",
       "      <td>0.000000</td>\n",
       "      <td>42.000000</td>\n",
       "      <td>2.513421e+08</td>\n",
       "      <td>5.305307e+10</td>\n",
       "    </tr>\n",
       "    <tr>\n",
       "      <th>max</th>\n",
       "      <td>99577.000000</td>\n",
       "      <td>2024.000000</td>\n",
       "      <td>337.000000</td>\n",
       "      <td>845000.000000</td>\n",
       "      <td>49.000000</td>\n",
       "      <td>4.792548e+08</td>\n",
       "      <td>5.603300e+10</td>\n",
       "    </tr>\n",
       "  </tbody>\n",
       "</table>\n",
       "</div>"
      ],
      "text/plain": [
       "         Postal Code     Model Year  Electric Range      Base MSRP  \\\n",
       "count  166795.000000  166800.000000   166800.000000  166800.000000   \n",
       "mean    98173.713750    2020.341793       61.508993    1152.723171   \n",
       "std      2442.584415       3.001465       93.271747    8661.081091   \n",
       "min      1730.000000    1997.000000        0.000000       0.000000   \n",
       "25%     98052.000000    2018.000000        0.000000       0.000000   \n",
       "50%     98122.000000    2021.000000        0.000000       0.000000   \n",
       "75%     98371.000000    2023.000000       84.000000       0.000000   \n",
       "max     99577.000000    2024.000000      337.000000  845000.000000   \n",
       "\n",
       "       Legislative District  DOL Vehicle ID  2020 Census Tract  \n",
       "count         166440.000000    1.668000e+05       1.667950e+05  \n",
       "mean              29.178941    2.172420e+08       5.297709e+10  \n",
       "std               14.853534    7.727458e+07       1.569754e+09  \n",
       "min                1.000000    4.385000e+03       1.001020e+09  \n",
       "25%               18.000000    1.790741e+08       5.303301e+10  \n",
       "50%               33.000000    2.244045e+08       5.303303e+10  \n",
       "75%               42.000000    2.513421e+08       5.305307e+10  \n",
       "max               49.000000    4.792548e+08       5.603300e+10  "
      ]
     },
     "execution_count": 4,
     "metadata": {},
     "output_type": "execute_result"
    }
   ],
   "source": [
    "df.describe()"
   ]
  },
  {
   "cell_type": "markdown",
   "id": "ceac00d6",
   "metadata": {},
   "source": [
    "For Electric Range, median is 0 and the 3rd quantile is 84, mean is 61.5. This indicates a heavy right skew and a possibility of outliers. We'll take a look at it during analysis."
   ]
  },
  {
   "cell_type": "code",
   "execution_count": 5,
   "id": "80b1e8d7",
   "metadata": {},
   "outputs": [
    {
     "data": {
      "text/html": [
       "<div>\n",
       "<style scoped>\n",
       "    .dataframe tbody tr th:only-of-type {\n",
       "        vertical-align: middle;\n",
       "    }\n",
       "\n",
       "    .dataframe tbody tr th {\n",
       "        vertical-align: top;\n",
       "    }\n",
       "\n",
       "    .dataframe thead th {\n",
       "        text-align: right;\n",
       "    }\n",
       "</style>\n",
       "<table border=\"1\" class=\"dataframe\">\n",
       "  <thead>\n",
       "    <tr style=\"text-align: right;\">\n",
       "      <th></th>\n",
       "      <th>VIN (1-10)</th>\n",
       "      <th>County</th>\n",
       "      <th>City</th>\n",
       "      <th>State</th>\n",
       "      <th>Make</th>\n",
       "      <th>Model</th>\n",
       "      <th>Electric Vehicle Type</th>\n",
       "      <th>Clean Alternative Fuel Vehicle (CAFV) Eligibility</th>\n",
       "      <th>Vehicle Location</th>\n",
       "      <th>Electric Utility</th>\n",
       "    </tr>\n",
       "  </thead>\n",
       "  <tbody>\n",
       "    <tr>\n",
       "      <th>count</th>\n",
       "      <td>166800</td>\n",
       "      <td>166795</td>\n",
       "      <td>166795</td>\n",
       "      <td>166800</td>\n",
       "      <td>166800</td>\n",
       "      <td>166800</td>\n",
       "      <td>166800</td>\n",
       "      <td>166800</td>\n",
       "      <td>166790</td>\n",
       "      <td>166795</td>\n",
       "    </tr>\n",
       "    <tr>\n",
       "      <th>unique</th>\n",
       "      <td>10316</td>\n",
       "      <td>187</td>\n",
       "      <td>704</td>\n",
       "      <td>44</td>\n",
       "      <td>39</td>\n",
       "      <td>138</td>\n",
       "      <td>2</td>\n",
       "      <td>3</td>\n",
       "      <td>835</td>\n",
       "      <td>76</td>\n",
       "    </tr>\n",
       "    <tr>\n",
       "      <th>top</th>\n",
       "      <td>7SAYGDEE6P</td>\n",
       "      <td>King</td>\n",
       "      <td>Seattle</td>\n",
       "      <td>WA</td>\n",
       "      <td>TESLA</td>\n",
       "      <td>MODEL Y</td>\n",
       "      <td>Battery Electric Vehicle (BEV)</td>\n",
       "      <td>Eligibility unknown as battery range has not b...</td>\n",
       "      <td>POINT (-122.12302 47.67668)</td>\n",
       "      <td>PUGET SOUND ENERGY INC||CITY OF TACOMA - (WA)</td>\n",
       "    </tr>\n",
       "    <tr>\n",
       "      <th>freq</th>\n",
       "      <td>1114</td>\n",
       "      <td>86594</td>\n",
       "      <td>27831</td>\n",
       "      <td>166440</td>\n",
       "      <td>74834</td>\n",
       "      <td>32822</td>\n",
       "      <td>130293</td>\n",
       "      <td>83517</td>\n",
       "      <td>4252</td>\n",
       "      <td>61337</td>\n",
       "    </tr>\n",
       "  </tbody>\n",
       "</table>\n",
       "</div>"
      ],
      "text/plain": [
       "        VIN (1-10)  County     City   State    Make    Model  \\\n",
       "count       166800  166795   166795  166800  166800   166800   \n",
       "unique       10316     187      704      44      39      138   \n",
       "top     7SAYGDEE6P    King  Seattle      WA   TESLA  MODEL Y   \n",
       "freq          1114   86594    27831  166440   74834    32822   \n",
       "\n",
       "                 Electric Vehicle Type  \\\n",
       "count                           166800   \n",
       "unique                               2   \n",
       "top     Battery Electric Vehicle (BEV)   \n",
       "freq                            130293   \n",
       "\n",
       "        Clean Alternative Fuel Vehicle (CAFV) Eligibility  \\\n",
       "count                                              166800   \n",
       "unique                                                  3   \n",
       "top     Eligibility unknown as battery range has not b...   \n",
       "freq                                                83517   \n",
       "\n",
       "                   Vehicle Location  \\\n",
       "count                        166790   \n",
       "unique                          835   \n",
       "top     POINT (-122.12302 47.67668)   \n",
       "freq                           4252   \n",
       "\n",
       "                                     Electric Utility  \n",
       "count                                          166795  \n",
       "unique                                             76  \n",
       "top     PUGET SOUND ENERGY INC||CITY OF TACOMA - (WA)  \n",
       "freq                                            61337  "
      ]
     },
     "execution_count": 5,
     "metadata": {},
     "output_type": "execute_result"
    }
   ],
   "source": [
    "df.describe(include='O')"
   ]
  },
  {
   "cell_type": "code",
   "execution_count": 6,
   "id": "bc89c0fd",
   "metadata": {},
   "outputs": [
    {
     "name": "stdout",
     "output_type": "stream",
     "text": [
      "<class 'pandas.core.frame.DataFrame'>\n",
      "RangeIndex: 166800 entries, 0 to 166799\n",
      "Data columns (total 17 columns):\n",
      " #   Column                                             Non-Null Count   Dtype  \n",
      "---  ------                                             --------------   -----  \n",
      " 0   VIN (1-10)                                         166800 non-null  object \n",
      " 1   County                                             166795 non-null  object \n",
      " 2   City                                               166795 non-null  object \n",
      " 3   State                                              166800 non-null  object \n",
      " 4   Postal Code                                        166795 non-null  float64\n",
      " 5   Model Year                                         166800 non-null  int64  \n",
      " 6   Make                                               166800 non-null  object \n",
      " 7   Model                                              166800 non-null  object \n",
      " 8   Electric Vehicle Type                              166800 non-null  object \n",
      " 9   Clean Alternative Fuel Vehicle (CAFV) Eligibility  166800 non-null  object \n",
      " 10  Electric Range                                     166800 non-null  int64  \n",
      " 11  Base MSRP                                          166800 non-null  int64  \n",
      " 12  Legislative District                               166440 non-null  float64\n",
      " 13  DOL Vehicle ID                                     166800 non-null  int64  \n",
      " 14  Vehicle Location                                   166790 non-null  object \n",
      " 15  Electric Utility                                   166795 non-null  object \n",
      " 16  2020 Census Tract                                  166795 non-null  float64\n",
      "dtypes: float64(3), int64(4), object(10)\n",
      "memory usage: 21.6+ MB\n"
     ]
    }
   ],
   "source": [
    "df.info()"
   ]
  },
  {
   "cell_type": "code",
   "execution_count": 7,
   "id": "303353bd",
   "metadata": {
    "scrolled": true
   },
   "outputs": [
    {
     "data": {
      "text/plain": [
       "VIN (1-10)                                             0\n",
       "County                                                 5\n",
       "City                                                   5\n",
       "State                                                  0\n",
       "Postal Code                                            5\n",
       "Model Year                                             0\n",
       "Make                                                   0\n",
       "Model                                                  0\n",
       "Electric Vehicle Type                                  0\n",
       "Clean Alternative Fuel Vehicle (CAFV) Eligibility      0\n",
       "Electric Range                                         0\n",
       "Base MSRP                                              0\n",
       "Legislative District                                 360\n",
       "DOL Vehicle ID                                         0\n",
       "Vehicle Location                                      10\n",
       "Electric Utility                                       5\n",
       "2020 Census Tract                                      5\n",
       "dtype: int64"
      ]
     },
     "execution_count": 7,
     "metadata": {},
     "output_type": "execute_result"
    }
   ],
   "source": [
    "df.isna().sum()"
   ]
  },
  {
   "cell_type": "markdown",
   "id": "8b311848",
   "metadata": {},
   "source": [
    "## Data Cleaning"
   ]
  },
  {
   "cell_type": "markdown",
   "id": "e434d3e6",
   "metadata": {},
   "source": [
    "We have `County`, `City`, `Postal Code` with just 5 missing values, which might all be the same. We'll take a look at it.\n",
    "The `Legislative District` has 360 missing values, `Vehicle Location` has 10. `Electric Utility` and `2020 Census Tract` has 5."
   ]
  },
  {
   "cell_type": "code",
   "execution_count": 9,
   "id": "fbb6d0d1",
   "metadata": {
    "scrolled": true
   },
   "outputs": [
    {
     "data": {
      "text/html": [
       "<div>\n",
       "<style scoped>\n",
       "    .dataframe tbody tr th:only-of-type {\n",
       "        vertical-align: middle;\n",
       "    }\n",
       "\n",
       "    .dataframe tbody tr th {\n",
       "        vertical-align: top;\n",
       "    }\n",
       "\n",
       "    .dataframe thead th {\n",
       "        text-align: right;\n",
       "    }\n",
       "</style>\n",
       "<table border=\"1\" class=\"dataframe\">\n",
       "  <thead>\n",
       "    <tr style=\"text-align: right;\">\n",
       "      <th></th>\n",
       "      <th>VIN (1-10)</th>\n",
       "      <th>County</th>\n",
       "      <th>City</th>\n",
       "      <th>State</th>\n",
       "      <th>Postal Code</th>\n",
       "      <th>Model Year</th>\n",
       "      <th>Make</th>\n",
       "      <th>Model</th>\n",
       "      <th>Electric Vehicle Type</th>\n",
       "      <th>Clean Alternative Fuel Vehicle (CAFV) Eligibility</th>\n",
       "      <th>Electric Range</th>\n",
       "      <th>Base MSRP</th>\n",
       "      <th>Legislative District</th>\n",
       "      <th>DOL Vehicle ID</th>\n",
       "      <th>Vehicle Location</th>\n",
       "      <th>Electric Utility</th>\n",
       "      <th>2020 Census Tract</th>\n",
       "    </tr>\n",
       "  </thead>\n",
       "  <tbody>\n",
       "    <tr>\n",
       "      <th>98</th>\n",
       "      <td>5YJXCAE24H</td>\n",
       "      <td>NaN</td>\n",
       "      <td>NaN</td>\n",
       "      <td>BC</td>\n",
       "      <td>NaN</td>\n",
       "      <td>2017</td>\n",
       "      <td>TESLA</td>\n",
       "      <td>MODEL X</td>\n",
       "      <td>Battery Electric Vehicle (BEV)</td>\n",
       "      <td>Clean Alternative Fuel Vehicle Eligible</td>\n",
       "      <td>200</td>\n",
       "      <td>0</td>\n",
       "      <td>NaN</td>\n",
       "      <td>159850029</td>\n",
       "      <td>NaN</td>\n",
       "      <td>NaN</td>\n",
       "      <td>NaN</td>\n",
       "    </tr>\n",
       "    <tr>\n",
       "      <th>100</th>\n",
       "      <td>5YJSA1E21J</td>\n",
       "      <td>NaN</td>\n",
       "      <td>NaN</td>\n",
       "      <td>AE</td>\n",
       "      <td>NaN</td>\n",
       "      <td>2018</td>\n",
       "      <td>TESLA</td>\n",
       "      <td>MODEL S</td>\n",
       "      <td>Battery Electric Vehicle (BEV)</td>\n",
       "      <td>Clean Alternative Fuel Vehicle Eligible</td>\n",
       "      <td>249</td>\n",
       "      <td>0</td>\n",
       "      <td>NaN</td>\n",
       "      <td>220643132</td>\n",
       "      <td>NaN</td>\n",
       "      <td>NaN</td>\n",
       "      <td>NaN</td>\n",
       "    </tr>\n",
       "    <tr>\n",
       "      <th>132425</th>\n",
       "      <td>5YJ3E1EA5K</td>\n",
       "      <td>NaN</td>\n",
       "      <td>NaN</td>\n",
       "      <td>BC</td>\n",
       "      <td>NaN</td>\n",
       "      <td>2019</td>\n",
       "      <td>TESLA</td>\n",
       "      <td>MODEL 3</td>\n",
       "      <td>Battery Electric Vehicle (BEV)</td>\n",
       "      <td>Clean Alternative Fuel Vehicle Eligible</td>\n",
       "      <td>220</td>\n",
       "      <td>0</td>\n",
       "      <td>NaN</td>\n",
       "      <td>475254825</td>\n",
       "      <td>NaN</td>\n",
       "      <td>NaN</td>\n",
       "      <td>NaN</td>\n",
       "    </tr>\n",
       "    <tr>\n",
       "      <th>140273</th>\n",
       "      <td>5YJRE11B48</td>\n",
       "      <td>NaN</td>\n",
       "      <td>NaN</td>\n",
       "      <td>BC</td>\n",
       "      <td>NaN</td>\n",
       "      <td>2008</td>\n",
       "      <td>TESLA</td>\n",
       "      <td>ROADSTER</td>\n",
       "      <td>Battery Electric Vehicle (BEV)</td>\n",
       "      <td>Clean Alternative Fuel Vehicle Eligible</td>\n",
       "      <td>220</td>\n",
       "      <td>98950</td>\n",
       "      <td>NaN</td>\n",
       "      <td>143609049</td>\n",
       "      <td>NaN</td>\n",
       "      <td>NaN</td>\n",
       "      <td>NaN</td>\n",
       "    </tr>\n",
       "    <tr>\n",
       "      <th>154970</th>\n",
       "      <td>1N4AZ0CP1D</td>\n",
       "      <td>NaN</td>\n",
       "      <td>NaN</td>\n",
       "      <td>AP</td>\n",
       "      <td>NaN</td>\n",
       "      <td>2013</td>\n",
       "      <td>NISSAN</td>\n",
       "      <td>LEAF</td>\n",
       "      <td>Battery Electric Vehicle (BEV)</td>\n",
       "      <td>Clean Alternative Fuel Vehicle Eligible</td>\n",
       "      <td>75</td>\n",
       "      <td>0</td>\n",
       "      <td>NaN</td>\n",
       "      <td>112277063</td>\n",
       "      <td>NaN</td>\n",
       "      <td>NaN</td>\n",
       "      <td>NaN</td>\n",
       "    </tr>\n",
       "  </tbody>\n",
       "</table>\n",
       "</div>"
      ],
      "text/plain": [
       "        VIN (1-10) County City State  Postal Code  Model Year    Make  \\\n",
       "98      5YJXCAE24H    NaN  NaN    BC          NaN        2017   TESLA   \n",
       "100     5YJSA1E21J    NaN  NaN    AE          NaN        2018   TESLA   \n",
       "132425  5YJ3E1EA5K    NaN  NaN    BC          NaN        2019   TESLA   \n",
       "140273  5YJRE11B48    NaN  NaN    BC          NaN        2008   TESLA   \n",
       "154970  1N4AZ0CP1D    NaN  NaN    AP          NaN        2013  NISSAN   \n",
       "\n",
       "           Model           Electric Vehicle Type  \\\n",
       "98       MODEL X  Battery Electric Vehicle (BEV)   \n",
       "100      MODEL S  Battery Electric Vehicle (BEV)   \n",
       "132425   MODEL 3  Battery Electric Vehicle (BEV)   \n",
       "140273  ROADSTER  Battery Electric Vehicle (BEV)   \n",
       "154970      LEAF  Battery Electric Vehicle (BEV)   \n",
       "\n",
       "       Clean Alternative Fuel Vehicle (CAFV) Eligibility  Electric Range  \\\n",
       "98               Clean Alternative Fuel Vehicle Eligible             200   \n",
       "100              Clean Alternative Fuel Vehicle Eligible             249   \n",
       "132425           Clean Alternative Fuel Vehicle Eligible             220   \n",
       "140273           Clean Alternative Fuel Vehicle Eligible             220   \n",
       "154970           Clean Alternative Fuel Vehicle Eligible              75   \n",
       "\n",
       "        Base MSRP  Legislative District  DOL Vehicle ID Vehicle Location  \\\n",
       "98              0                   NaN       159850029              NaN   \n",
       "100             0                   NaN       220643132              NaN   \n",
       "132425          0                   NaN       475254825              NaN   \n",
       "140273      98950                   NaN       143609049              NaN   \n",
       "154970          0                   NaN       112277063              NaN   \n",
       "\n",
       "       Electric Utility  2020 Census Tract  \n",
       "98                  NaN                NaN  \n",
       "100                 NaN                NaN  \n",
       "132425              NaN                NaN  \n",
       "140273              NaN                NaN  \n",
       "154970              NaN                NaN  "
      ]
     },
     "execution_count": 9,
     "metadata": {},
     "output_type": "execute_result"
    }
   ],
   "source": [
    "df[df['County'].isna()]"
   ]
  },
  {
   "cell_type": "markdown",
   "id": "2c2d6e0f",
   "metadata": {},
   "source": [
    "The assumption was on point. Values of County, City and Postal Code are missing for the same 5 records. In fact, Vehicle Location, Electric utility and Census Tract are also missing for the same. Since a lot our analysis is going to deal with these features, let's remove these 5 records to begin with.\n",
    "\n",
    "Apart from this Vehicle Location will have 5 more missing records. Let's remove those as well."
   ]
  },
  {
   "cell_type": "code",
   "execution_count": 70,
   "id": "c451711e",
   "metadata": {
    "scrolled": true
   },
   "outputs": [],
   "source": [
    "df_cleaned = df.dropna(subset=['County'])\n",
    "df_cleaned = df.dropna(subset=['Vehicle Location'])"
   ]
  },
  {
   "cell_type": "code",
   "execution_count": 46,
   "id": "6fda9977",
   "metadata": {
    "scrolled": false
   },
   "outputs": [
    {
     "data": {
      "text/plain": [
       "VIN (1-10)                                             0\n",
       "County                                                 0\n",
       "City                                                   0\n",
       "State                                                  0\n",
       "Postal Code                                            0\n",
       "Model Year                                             0\n",
       "Make                                                   0\n",
       "Model                                                  0\n",
       "Electric Vehicle Type                                  0\n",
       "Clean Alternative Fuel Vehicle (CAFV) Eligibility      0\n",
       "Electric Range                                         0\n",
       "Base MSRP                                              0\n",
       "Legislative District                                 355\n",
       "DOL Vehicle ID                                         0\n",
       "Vehicle Location                                       0\n",
       "Electric Utility                                       0\n",
       "2020 Census Tract                                      0\n",
       "dtype: int64"
      ]
     },
     "execution_count": 46,
     "metadata": {},
     "output_type": "execute_result"
    }
   ],
   "source": [
    "df_cleaned.isna().sum()"
   ]
  },
  {
   "cell_type": "markdown",
   "id": "ccf570e4",
   "metadata": {},
   "source": [
    "Legislative District has 355 missing value now. We won't be dealing with this feature, so let's keep these records as is."
   ]
  },
  {
   "cell_type": "code",
   "execution_count": 9,
   "id": "58971b76",
   "metadata": {
    "scrolled": true
   },
   "outputs": [
    {
     "data": {
      "text/plain": [
       "array(['PACIFICORP', 'PUGET SOUND ENERGY INC',\n",
       "       'PUGET SOUND ENERGY INC||CITY OF TACOMA - (WA)',\n",
       "       'CITY OF SEATTLE - (WA)|CITY OF TACOMA - (WA)',\n",
       "       'PUD NO 2 OF GRANT COUNTY', 'MODERN ELECTRIC WATER COMPANY',\n",
       "       'AVISTA CORP', 'PUD NO 1 OF CHELAN COUNTY',\n",
       "       'NO KNOWN ELECTRIC UTILITY SERVICE',\n",
       "       'BONNEVILLE POWER ADMINISTRATION||PUD NO 1 OF CLARK COUNTY - (WA)',\n",
       "       'BONNEVILLE POWER ADMINISTRATION||PUGET SOUND ENERGY INC||PUD NO 1 OF JEFFERSON COUNTY',\n",
       "       'BONNEVILLE POWER ADMINISTRATION||PUD NO 1 OF COWLITZ COUNTY',\n",
       "       'BONNEVILLE POWER ADMINISTRATION||PUD NO 1 OF KLICKITAT COUNTY',\n",
       "       'BONNEVILLE POWER ADMINISTRATION||PACIFICORP||BENTON RURAL ELECTRIC ASSN',\n",
       "       'BONNEVILLE POWER ADMINISTRATION||PUD 1 OF SNOHOMISH COUNTY',\n",
       "       'BONNEVILLE POWER ADMINISTRATION||PUD NO 1 OF CLALLAM COUNTY',\n",
       "       'BONNEVILLE POWER ADMINISTRATION||PACIFICORP||PUD NO 1 OF CLARK COUNTY - (WA)',\n",
       "       'BONNEVILLE POWER ADMINISTRATION||CITY OF PORT ANGELES - (WA)',\n",
       "       'BONNEVILLE POWER ADMINISTRATION||PUD NO 1 OF MASON COUNTY|PUD NO 1 OF JEFFERSON COUNTY',\n",
       "       'BONNEVILLE POWER ADMINISTRATION||CITY OF MILTON - (WA)|CITY OF TACOMA - (WA)',\n",
       "       'BONNEVILLE POWER ADMINISTRATION||BENTON RURAL ELECTRIC ASSN',\n",
       "       'CITY OF TACOMA - (WA)',\n",
       "       'BONNEVILLE POWER ADMINISTRATION||CITY OF TACOMA - (WA)||PENINSULA LIGHT COMPANY',\n",
       "       'CITY OF TACOMA - (WA)||TANNER ELECTRIC COOP', 'CITY OF CHEWELAH',\n",
       "       'BONNEVILLE POWER ADMINISTRATION||PUD NO 1 OF CLALLAM COUNTY|PUD NO 1 OF JEFFERSON COUNTY',\n",
       "       'BONNEVILLE POWER ADMINISTRATION||ORCAS POWER & LIGHT COOP',\n",
       "       'BONNEVILLE POWER ADMINISTRATION||AVISTA CORP||INLAND POWER & LIGHT COMPANY',\n",
       "       'PUGET SOUND ENERGY INC||PUD NO 1 OF WHATCOM COUNTY',\n",
       "       'BONNEVILLE POWER ADMINISTRATION||PUD NO 1 OF BENTON COUNTY',\n",
       "       'BONNEVILLE POWER ADMINISTRATION||PUD NO 2 OF PACIFIC COUNTY',\n",
       "       'BONNEVILLE POWER ADMINISTRATION||VERA IRRIGATION DISTRICT #15',\n",
       "       'BONNEVILLE POWER ADMINISTRATION||INLAND POWER & LIGHT COMPANY',\n",
       "       'BONNEVILLE POWER ADMINISTRATION||CITY OF CENTRALIA - (WA)|CITY OF TACOMA - (WA)',\n",
       "       'BONNEVILLE POWER ADMINISTRATION||CITY OF TACOMA - (WA)||PUD NO 1 OF MASON COUNTY',\n",
       "       'BONNEVILLE POWER ADMINISTRATION||CITY OF ELLENSBURG - (WA)',\n",
       "       'BONNEVILLE POWER ADMINISTRATION||PUD NO 1 OF GRAYS HARBOR COUNTY',\n",
       "       'BONNEVILLE POWER ADMINISTRATION||PUD NO 1 OF KITTITAS COUNTY',\n",
       "       'BONNEVILLE POWER ADMINISTRATION||CITY OF RICHLAND - (WA)',\n",
       "       'OKANOGAN COUNTY ELEC COOP, INC',\n",
       "       'BONNEVILLE POWER ADMINISTRATION||CITY OF TACOMA - (WA)||LAKEVIEW LIGHT & POWER|PENINSULA LIGHT COMPANY',\n",
       "       'BONNEVILLE POWER ADMINISTRATION||CITY OF TACOMA - (WA)||PUD NO 1 OF LEWIS COUNTY',\n",
       "       'BONNEVILLE POWER ADMINISTRATION||PUD NO 1 OF FRANKLIN COUNTY',\n",
       "       'BONNEVILLE POWER ADMINISTRATION||CITY OF TACOMA - (WA)||PUD NO 3 OF MASON COUNTY',\n",
       "       'BONNEVILLE POWER ADMINISTRATION||AVISTA CORP||BIG BEND ELECTRIC COOP, INC',\n",
       "       'BONNEVILLE POWER ADMINISTRATION||AVISTA CORP||PUD NO 1 OF ASOTIN COUNTY',\n",
       "       'PUD NO 1 OF DOUGLAS COUNTY',\n",
       "       'BONNEVILLE POWER ADMINISTRATION||CITY OF TACOMA - (WA)||PARKLAND LIGHT & WATER COMPANY|PENINSULA LIGHT COMPANY',\n",
       "       'BONNEVILLE POWER ADMINISTRATION||TOWN OF STEILACOOM|CITY OF TACOMA - (WA)||PENINSULA LIGHT COMPANY',\n",
       "       'BONNEVILLE POWER ADMINISTRATION||CITY OF TACOMA - (WA)||BENTON RURAL ELECTRIC ASSN|PENINSULA LIGHT COMPANY',\n",
       "       'BONNEVILLE POWER ADMINISTRATION||PUD NO 1 OF SKAMANIA CO',\n",
       "       'BONNEVILLE POWER ADMINISTRATION||CITY OF TACOMA - (WA)||ELMHURST MUTUAL POWER & LIGHT CO|PENINSULA LIGHT COMPANY',\n",
       "       'BONNEVILLE POWER ADMINISTRATION||PACIFICORP||COLUMBIA RURAL ELEC ASSN, INC',\n",
       "       'CITY OF CHENEY - (WA)', 'PUD NO 1 OF OKANOGAN COUNTY',\n",
       "       'CITY OF BLAINE - (WA)||PUD NO 1 OF WHATCOM COUNTY',\n",
       "       'BONNEVILLE POWER ADMINISTRATION||PUD NO 1 OF WAHKIAKUM COUNTY',\n",
       "       'NON WASHINGTON STATE ELECTRIC UTILITY',\n",
       "       'BONNEVILLE POWER ADMINISTRATION||BIG BEND ELECTRIC COOP, INC',\n",
       "       'BONNEVILLE POWER ADMINISTRATION||CITY OF TACOMA - (WA)||OHOP MUTUAL LIGHT COMPANY, INC|PENINSULA LIGHT COMPANY',\n",
       "       'CITY OF SEATTLE - (WA)', 'PUD NO 1 OF PEND OREILLE COUNTY',\n",
       "       'PUD NO 1 OF WHATCOM COUNTY',\n",
       "       'BONNEVILLE POWER ADMINISTRATION||COLUMBIA RURAL ELEC ASSN, INC',\n",
       "       'PORTLAND GENERAL ELECTRIC CO',\n",
       "       'BONNEVILLE POWER ADMINISTRATION||TOWN OF EATONVILLE - (WA)|CITY OF TACOMA - (WA)',\n",
       "       'BONNEVILLE POWER ADMINISTRATION||CITY OF MCCLEARY - (WA)',\n",
       "       'BONNEVILLE POWER ADMINISTRATION||CITY OF TACOMA - (WA)||ALDER MUTUAL LIGHT CO, INC|PENINSULA LIGHT COMPANY',\n",
       "       'BONNEVILLE POWER ADMINISTRATION||PENINSULA LIGHT COMPANY',\n",
       "       'BONNEVILLE POWER ADMINISTRATION||PUD NO 1 OF FERRY COUNTY',\n",
       "       'BONNEVILLE POWER ADMINISTRATION||TOWN OF RUSTON - (WA)|CITY OF TACOMA - (WA)||PENINSULA LIGHT COMPANY',\n",
       "       'CITY OF SUMAS - (WA)||PUD NO 1 OF WHATCOM COUNTY',\n",
       "       'BONNEVILLE POWER ADMINISTRATION||NESPELEM VALLEY ELEC COOP, INC',\n",
       "       'BONNEVILLE POWER ADMINISTRATION||CITY OF COULEE DAM - (WA)',\n",
       "       'BONNEVILLE POWER ADMINISTRATION||PUD NO 1 OF ASOTIN COUNTY||INLAND POWER & LIGHT COMPANY',\n",
       "       'BONNEVILLE POWER ADMINISTRATION||PUD NO 1 OF JEFFERSON COUNTY'],\n",
       "      dtype=object)"
      ]
     },
     "execution_count": 9,
     "metadata": {},
     "output_type": "execute_result"
    }
   ],
   "source": [
    "df_cleaned['Electric Utility'].unique()"
   ]
  },
  {
   "cell_type": "markdown",
   "id": "7466905e",
   "metadata": {},
   "source": [
    "We have a few cases here:\n",
    "1. Single value\n",
    "2. Two values joined with |\n",
    "3. Two values joined with ||\n",
    "4. Three values joined with || and |\n",
    "5. Multiple values joined with || and |\n",
    "\n",
    "Here's what we'll do:\\\n",
    "Separate the values based on | and ||. \\\n",
    "For cases:\n",
    "1. If they have a single values - do nothing.\n",
    "2. If it had 2 values joined by | - Replace the value by randomly assigning any of the 2 values, because they are of the same type\n",
    "3. If it had 2 values joined by || - Replace the value with the 1st value, because they are different type and first they fall under the 1st territory mentioned\n",
    "4. If it had 3 values separated by || and |or|| - Replace with the 2nd value (The middle one), because it implies the coverage of the entire territory in the middle\n",
    "5. if it had Multiple values joined with || and | - Replace by choosing randomly b/w the 2nd and the 3rd values, because it covers all of the territories in the middle.\n"
   ]
  },
  {
   "cell_type": "code",
   "execution_count": 71,
   "id": "db7e2ca2",
   "metadata": {
    "scrolled": true
   },
   "outputs": [
    {
     "name": "stderr",
     "output_type": "stream",
     "text": [
      "C:\\Users\\sajan\\AppData\\Local\\Temp/ipykernel_10860/4240917425.py:25: SettingWithCopyWarning: \n",
      "A value is trying to be set on a copy of a slice from a DataFrame.\n",
      "Try using .loc[row_indexer,col_indexer] = value instead\n",
      "\n",
      "See the caveats in the documentation: https://pandas.pydata.org/pandas-docs/stable/user_guide/indexing.html#returning-a-view-versus-a-copy\n",
      "  df_cleaned['Electric Utility'] = df_cleaned['Electric Utility'].apply(separate_values)\n"
     ]
    },
    {
     "data": {
      "text/plain": [
       "34"
      ]
     },
     "execution_count": 71,
     "metadata": {},
     "output_type": "execute_result"
    }
   ],
   "source": [
    "def separate_values(value):\n",
    "    all_values = []\n",
    "\n",
    "    if '|' in value and '||' not in value:\n",
    "        # Case 2: Two values joined by |\n",
    "        return random.choice(value.split('|'))\n",
    "    elif '||' in value:\n",
    "        values = value.split('||')\n",
    "        if not any('|' in x for x in values):\n",
    "            if len(values) == 2:\n",
    "                # Case 3: Two values joined by ||\n",
    "                return values[0]\n",
    "        else:\n",
    "            # Case 4: Three values separated by || and |\n",
    "            for x in values:\n",
    "                all_values.extend(re.split(r'\\|+|\\|\\|+', x))\n",
    "            if len(all_values) == 3:  # total length will be 3 values\n",
    "                return all_values[1]  # Returning the middle value\n",
    "            # Case 5: Multiple values joined with || and |\n",
    "            return random.choice([all_values[1], all_values[2]])  # Returning either 2nd/3rd element\n",
    "    else:\n",
    "        # Case 1: Single value\n",
    "        return value\n",
    "\n",
    "df_cleaned['Electric Utility'] = df_cleaned['Electric Utility'].apply(separate_values)\n",
    "df_cleaned['Electric Utility'].nunique()"
   ]
  },
  {
   "cell_type": "code",
   "execution_count": 78,
   "id": "4d918ee4",
   "metadata": {},
   "outputs": [
    {
     "data": {
      "text/plain": [
       "PUGET SOUND ENERGY INC                   98811\n",
       "BONNEVILLE POWER ADMINISTRATION          18574\n",
       "CITY OF TACOMA - (WA)                    15600\n",
       "CITY OF SEATTLE - (WA)                   14796\n",
       "PACIFICORP                                1245\n",
       "MODERN ELECTRIC WATER COMPANY             1059\n",
       "PUD NO 1 OF CHELAN COUNTY                  989\n",
       "PUD NO 2 OF GRANT COUNTY                   530\n",
       "AVISTA CORP                                372\n",
       "NON WASHINGTON STATE ELECTRIC UTILITY      355\n",
       "PUD NO 1 OF DOUGLAS COUNTY                 335\n",
       "NO KNOWN ELECTRIC UTILITY SERVICE          222\n",
       "ELMHURST MUTUAL POWER & LIGHT CO           216\n",
       "CITY OF CENTRALIA - (WA)                   206\n",
       "CITY OF BLAINE - (WA)                      186\n",
       "OKANOGAN COUNTY ELEC COOP, INC             139\n",
       "PUD NO 1 OF OKANOGAN COUNTY                 98\n",
       "CITY OF MILTON - (WA)                       85\n",
       "TOWN OF STEILACOOM                          80\n",
       "LAKEVIEW LIGHT & POWER                      77\n",
       "PUD NO 1 OF PEND OREILLE COUNTY             56\n",
       "PARKLAND LIGHT & WATER COMPANY              55\n",
       "OHOP MUTUAL LIGHT COMPANY, INC              52\n",
       "PUD NO 1 OF WHATCOM COUNTY                  42\n",
       "CITY OF CHENEY - (WA)                       40\n",
       "TOWN OF EATONVILLE - (WA)                   27\n",
       "PUD NO 1 OF MASON COUNTY                    24\n",
       "BENTON RURAL ELECTRIC ASSN                  17\n",
       "TOWN OF RUSTON - (WA)                       15\n",
       "CITY OF SUMAS - (WA)                         6\n",
       "CITY OF CHEWELAH                             5\n",
       "PORTLAND GENERAL ELECTRIC CO                 3\n",
       "PUD NO 1 OF CLALLAM COUNTY                   1\n",
       "ALDER MUTUAL LIGHT CO, INC                   1\n",
       "Name: Electric Utility, dtype: int64"
      ]
     },
     "execution_count": 78,
     "metadata": {},
     "output_type": "execute_result"
    }
   ],
   "source": [
    "df_cleaned['Electric Utility'].value_counts()"
   ]
  },
  {
   "cell_type": "markdown",
   "id": "2f55a664",
   "metadata": {},
   "source": [
    "So, we have 34 different electric utility categories now. This is still a lot and the top 4 categories have way highers counts than the rest. Therefore, in our analysis we'll only use the top subset of categories."
   ]
  },
  {
   "cell_type": "code",
   "execution_count": 73,
   "id": "6f377b2d",
   "metadata": {
    "scrolled": true
   },
   "outputs": [
    {
     "data": {
      "text/plain": [
       "array(['Clean Alternative Fuel Vehicle Eligible',\n",
       "       'Not eligible due to low battery range',\n",
       "       'Eligibility unknown as battery range has not been researched'],\n",
       "      dtype=object)"
      ]
     },
     "execution_count": 73,
     "metadata": {},
     "output_type": "execute_result"
    }
   ],
   "source": [
    "df_cleaned['Clean Alternative Fuel Vehicle (CAFV) Eligibility'].unique()"
   ]
  },
  {
   "cell_type": "code",
   "execution_count": 74,
   "id": "77216cc8",
   "metadata": {},
   "outputs": [
    {
     "name": "stderr",
     "output_type": "stream",
     "text": [
      "C:\\Users\\sajan\\anaconda3\\lib\\site-packages\\pandas\\core\\frame.py:5039: SettingWithCopyWarning: \n",
      "A value is trying to be set on a copy of a slice from a DataFrame\n",
      "\n",
      "See the caveats in the documentation: https://pandas.pydata.org/pandas-docs/stable/user_guide/indexing.html#returning-a-view-versus-a-copy\n",
      "  return super().rename(\n",
      "C:\\Users\\sajan\\anaconda3\\lib\\site-packages\\pandas\\core\\generic.py:6619: SettingWithCopyWarning: \n",
      "A value is trying to be set on a copy of a slice from a DataFrame\n",
      "\n",
      "See the caveats in the documentation: https://pandas.pydata.org/pandas-docs/stable/user_guide/indexing.html#returning-a-view-versus-a-copy\n",
      "  return self._update_inplace(result)\n"
     ]
    }
   ],
   "source": [
    "# Rename the column\n",
    "df_cleaned.rename(columns={'Clean Alternative Fuel Vehicle (CAFV) Eligibility': 'CAFV Eligibility'}, inplace=True)\n",
    "\n",
    "# Mapping feature name and values\n",
    "mapping = {'Clean Alternative Fuel Vehicle Eligible': 'Eligible', \n",
    "           'Not eligible due to low battery range': 'Not eligible', \n",
    "           'Eligibility unknown as battery range has not been researched': 'Unknown'}\n",
    "# Replace values\n",
    "df_cleaned['CAFV Eligibility'].replace(mapping, inplace=True)"
   ]
  },
  {
   "cell_type": "code",
   "execution_count": 75,
   "id": "6657e794",
   "metadata": {},
   "outputs": [
    {
     "data": {
      "text/plain": [
       "array(['Battery Electric Vehicle (BEV)',\n",
       "       'Plug-in Hybrid Electric Vehicle (PHEV)'], dtype=object)"
      ]
     },
     "execution_count": 75,
     "metadata": {},
     "output_type": "execute_result"
    }
   ],
   "source": [
    "df_cleaned['Electric Vehicle Type'].unique()"
   ]
  },
  {
   "cell_type": "code",
   "execution_count": 76,
   "id": "a7a49118",
   "metadata": {},
   "outputs": [],
   "source": [
    "evt_mapping = {'Battery Electric Vehicle (BEV)': 'Battery EV', \n",
    "           'Plug-in Hybrid Electric Vehicle (PHEV)': 'Plug-in Hybrid EV'}\n",
    "\n",
    "df_cleaned['Electric Vehicle Type'].replace(evt_mapping, inplace=True)"
   ]
  },
  {
   "cell_type": "markdown",
   "id": "339e2eb3",
   "metadata": {},
   "source": [
    "## Analysis & Insights"
   ]
  },
  {
   "cell_type": "markdown",
   "id": "82b699cf",
   "metadata": {},
   "source": [
    "#### 1.  What is the distribution of electric vehicles across different counties and cities and are there any notable patterns or concentrations? "
   ]
  },
  {
   "cell_type": "code",
   "execution_count": null,
   "id": "61c7dfc7",
   "metadata": {},
   "outputs": [],
   "source": []
  },
  {
   "cell_type": "code",
   "execution_count": null,
   "id": "982b9f77",
   "metadata": {},
   "outputs": [],
   "source": []
  },
  {
   "cell_type": "code",
   "execution_count": null,
   "id": "ff093b08",
   "metadata": {},
   "outputs": [],
   "source": []
  },
  {
   "cell_type": "markdown",
   "id": "833072e9",
   "metadata": {},
   "source": [
    "#### 2. What is the relationship between the Electric Vehicle type, CAFV eligibility and the Electric Utility? "
   ]
  },
  {
   "cell_type": "code",
   "execution_count": null,
   "id": "20074ec8",
   "metadata": {},
   "outputs": [],
   "source": []
  },
  {
   "cell_type": "markdown",
   "id": "45819067",
   "metadata": {},
   "source": [
    "Since our `Electric Utility` feature has 34 different categories, let's visualize the top 10 and filter the top 5 for our analysis"
   ]
  },
  {
   "cell_type": "code",
   "execution_count": 85,
   "id": "9d7adc93",
   "metadata": {},
   "outputs": [
    {
     "data": {
      "image/png": "[encoded data removed]",
      "text/plain": [
       "<Figure size 864x432 with 1 Axes>"
      ]
     },
     "metadata": {
      "needs_background": "light"
     },
     "output_type": "display_data"
    }
   ],
   "source": [
    "# Count the occurrences of each electric utility\n",
    "electric_utility_counts = df_cleaned['Electric Utility'].value_counts()\n",
    "\n",
    "# Sort the counts in descending order\n",
    "electric_utility_counts_sorted = electric_utility_counts.sort_values(ascending=False)\n",
    "\n",
    "# Extract top 5 electric utilities and their counts\n",
    "top_5_utilities = electric_utility_counts_sorted.head(5)\n",
    "\n",
    "# Plot the bar chart\n",
    "plt.figure(figsize=(12, 6))\n",
    "bar_colors = ['lightgrey' if utility not in top_5_utilities else 'lightgreen' for utility in electric_utility_counts_sorted.index]\n",
    "electric_utility_counts_sorted.head(10).plot(kind='bar', color=bar_colors)\n",
    "plt.title('Electric Utility Distribution')\n",
    "plt.xlabel('Electric Utility')\n",
    "plt.ylabel('Count')\n",
    "plt.xticks(rotation=45, ha='right')\n",
    "plt.tight_layout()\n",
    "plt.show()\n"
   ]
  },
  {
   "cell_type": "code",
   "execution_count": 100,
   "id": "947f2110",
   "metadata": {},
   "outputs": [
    {
     "data": {
      "text/plain": [
       "Index(['VIN (1-10)', 'County', 'City', 'State', 'Postal Code', 'Model Year',\n",
       "       'Make', 'Model', 'Electric Vehicle Type', 'CAFV Eligibility',\n",
       "       'Electric Range', 'Base MSRP', 'Legislative District', 'DOL Vehicle ID',\n",
       "       'Vehicle Location', 'Electric Utility', '2020 Census Tract'],\n",
       "      dtype='object')"
      ]
     },
     "execution_count": 100,
     "metadata": {},
     "output_type": "execute_result"
    }
   ],
   "source": [
    "top_5_data.columns"
   ]
  },
  {
   "cell_type": "code",
   "execution_count": 99,
   "id": "1690cd53",
   "metadata": {},
   "outputs": [
    {
     "data": {
      "application/vnd.plotly.v1+json": {
       "config": {
        "plotlyServerURL": "https://plot.ly"
       },
       "data": [
        {
         "link": {
          "source": [
           "BONNEVILLE POWER ADMINISTRATION",
           "Battery EV",
           "BONNEVILLE POWER ADMINISTRATION",
           "Battery EV",
           "BONNEVILLE POWER ADMINISTRATION",
           "Battery EV",
           "BONNEVILLE POWER ADMINISTRATION",
           "Plug-in Hybrid EV",
           "BONNEVILLE POWER ADMINISTRATION",
           "Plug-in Hybrid EV",
           "CITY OF SEATTLE - (WA)",
           "Battery EV",
           "CITY OF SEATTLE - (WA)",
           "Battery EV",
           "CITY OF SEATTLE - (WA)",
           "Battery EV",
           "CITY OF SEATTLE - (WA)",
           "Plug-in Hybrid EV",
           "CITY OF SEATTLE - (WA)",
           "Plug-in Hybrid EV",
           "CITY OF TACOMA - (WA)",
           "Battery EV",
           "CITY OF TACOMA - (WA)",
           "Battery EV",
           "CITY OF TACOMA - (WA)",
           "Battery EV",
           "CITY OF TACOMA - (WA)",
           "Plug-in Hybrid EV",
           "CITY OF TACOMA - (WA)",
           "Plug-in Hybrid EV",
           "PACIFICORP",
           "Battery EV",
           "PACIFICORP",
           "Battery EV",
           "PACIFICORP",
           "Plug-in Hybrid EV",
           "PACIFICORP",
           "Plug-in Hybrid EV",
           "PUGET SOUND ENERGY INC",
           "Battery EV",
           "PUGET SOUND ENERGY INC",
           "Battery EV",
           "PUGET SOUND ENERGY INC",
           "Battery EV",
           "PUGET SOUND ENERGY INC",
           "Plug-in Hybrid EV",
           "PUGET SOUND ENERGY INC",
           "Plug-in Hybrid EV"
          ],
          "target": [
           "Battery EV",
           "Eligible",
           "Battery EV",
           "Not eligible",
           "Battery EV",
           "Unknown",
           "Plug-in Hybrid EV",
           "Eligible",
           "Plug-in Hybrid EV",
           "Not eligible",
           "Battery EV",
           "Eligible",
           "Battery EV",
           "Not eligible",
           "Battery EV",
           "Unknown",
           "Plug-in Hybrid EV",
           "Eligible",
           "Plug-in Hybrid EV",
           "Not eligible",
           "Battery EV",
           "Eligible",
           "Battery EV",
           "Not eligible",
           "Battery EV",
           "Unknown",
           "Plug-in Hybrid EV",
           "Eligible",
           "Plug-in Hybrid EV",
           "Not eligible",
           "Battery EV",
           "Eligible",
           "Battery EV",
           "Unknown",
           "Plug-in Hybrid EV",
           "Eligible",
           "Plug-in Hybrid EV",
           "Not eligible",
           "Battery EV",
           "Eligible",
           "Battery EV",
           "Not eligible",
           "Battery EV",
           "Unknown",
           "Plug-in Hybrid EV",
           "Eligible",
           "Plug-in Hybrid EV",
           "Not eligible"
          ],
          "value": [
           5236,
           5236,
           2,
           2,
           8121,
           8121,
           2593,
           2593,
           2622,
           2622,
           4554,
           4554,
           1,
           1,
           7212,
           7212,
           1399,
           1399,
           1630,
           1630,
           4881,
           4881,
           1,
           1,
           7528,
           7528,
           1467,
           1467,
           1723,
           1723,
           328,
           328,
           535,
           535,
           188,
           188,
           194,
           194,
           26834,
           26834,
           4,
           4,
           52267,
           52267,
           9510,
           9510,
           10196,
           10196
          ]
         },
         "node": {
          "label": [
           "Electric Utility",
           "Electric Utility",
           "Electric Utility",
           "Electric Utility",
           "Electric Utility",
           "Electric Utility",
           "Electric Utility",
           "Electric Utility",
           "Electric Utility",
           "Electric Utility",
           "Electric Utility",
           "Electric Utility",
           "Electric Utility",
           "Electric Utility",
           "Electric Utility",
           "Electric Utility",
           "Electric Utility",
           "Electric Utility",
           "Electric Utility",
           "Electric Utility",
           "Electric Utility",
           "Electric Utility",
           "Electric Utility",
           "Electric Utility",
           "Electric Utility",
           "Electric Utility",
           "Electric Utility",
           "Electric Utility",
           "Electric Utility",
           "Electric Utility",
           "Electric Utility",
           "Electric Utility",
           "Electric Utility",
           "Electric Utility",
           "Electric Utility",
           "Electric Vehicle Type",
           "Electric Vehicle Type",
           "CAFV Eligibility",
           "CAFV Eligibility",
           "CAFV Eligibility"
          ],
          "line": {
           "color": "black",
           "width": 0.5
          },
          "pad": 15,
          "thickness": 20
         },
         "type": "sankey"
        }
       ],
       "layout": {
        "font": {
         "size": 10
        },
        "template": {
         "data": {
          "bar": [
           {
            "error_x": {
             "color": "#2a3f5f"
            },
            "error_y": {
             "color": "#2a3f5f"
            },
            "marker": {
             "line": {
              "color": "#E5ECF6",
              "width": 0.5
             },
             "pattern": {
              "fillmode": "overlay",
              "size": 10,
              "solidity": 0.2
             }
            },
            "type": "bar"
           }
          ],
          "barpolar": [
           {
            "marker": {
             "line": {
              "color": "#E5ECF6",
              "width": 0.5
             },
             "pattern": {
              "fillmode": "overlay",
              "size": 10,
              "solidity": 0.2
             }
            },
            "type": "barpolar"
           }
          ],
          "carpet": [
           {
            "aaxis": {
             "endlinecolor": "#2a3f5f",
             "gridcolor": "white",
             "linecolor": "white",
             "minorgridcolor": "white",
             "startlinecolor": "#2a3f5f"
            },
            "baxis": {
             "endlinecolor": "#2a3f5f",
             "gridcolor": "white",
             "linecolor": "white",
             "minorgridcolor": "white",
             "startlinecolor": "#2a3f5f"
            },
            "type": "carpet"
           }
          ],
          "choropleth": [
           {
            "colorbar": {
             "outlinewidth": 0,
             "ticks": ""
            },
            "type": "choropleth"
           }
          ],
          "contour": [
           {
            "colorbar": {
             "outlinewidth": 0,
             "ticks": ""
            },
            "colorscale": [
             [
              0,
              "#0d0887"
             ],
             [
              0.1111111111111111,
              "#46039f"
             ],
             [
              0.2222222222222222,
              "#7201a8"
             ],
             [
              0.3333333333333333,
              "#9c179e"
             ],
             [
              0.4444444444444444,
              "#bd3786"
             ],
             [
              0.5555555555555556,
              "#d8576b"
             ],
             [
              0.6666666666666666,
              "#ed7953"
             ],
             [
              0.7777777777777778,
              "#fb9f3a"
             ],
             [
              0.8888888888888888,
              "#fdca26"
             ],
             [
              1,
              "#f0f921"
             ]
            ],
            "type": "contour"
           }
          ],
          "contourcarpet": [
           {
            "colorbar": {
             "outlinewidth": 0,
             "ticks": ""
            },
            "type": "contourcarpet"
           }
          ],
          "heatmap": [
           {
            "colorbar": {
             "outlinewidth": 0,
             "ticks": ""
            },
            "colorscale": [
             [
              0,
              "#0d0887"
             ],
             [
              0.1111111111111111,
              "#46039f"
             ],
             [
              0.2222222222222222,
              "#7201a8"
             ],
             [
              0.3333333333333333,
              "#9c179e"
             ],
             [
              0.4444444444444444,
              "#bd3786"
             ],
             [
              0.5555555555555556,
              "#d8576b"
             ],
             [
              0.6666666666666666,
              "#ed7953"
             ],
             [
              0.7777777777777778,
              "#fb9f3a"
             ],
             [
              0.8888888888888888,
              "#fdca26"
             ],
             [
              1,
              "#f0f921"
             ]
            ],
            "type": "heatmap"
           }
          ],
          "heatmapgl": [
           {
            "colorbar": {
             "outlinewidth": 0,
             "ticks": ""
            },
            "colorscale": [
             [
              0,
              "#0d0887"
             ],
             [
              0.1111111111111111,
              "#46039f"
             ],
             [
              0.2222222222222222,
              "#7201a8"
             ],
             [
              0.3333333333333333,
              "#9c179e"
             ],
             [
              0.4444444444444444,
              "#bd3786"
             ],
             [
              0.5555555555555556,
              "#d8576b"
             ],
             [
              0.6666666666666666,
              "#ed7953"
             ],
             [
              0.7777777777777778,
              "#fb9f3a"
             ],
             [
              0.8888888888888888,
              "#fdca26"
             ],
             [
              1,
              "#f0f921"
             ]
            ],
            "type": "heatmapgl"
           }
          ],
          "histogram": [
           {
            "marker": {
             "pattern": {
              "fillmode": "overlay",
              "size": 10,
              "solidity": 0.2
             }
            },
            "type": "histogram"
           }
          ],
          "histogram2d": [
           {
            "colorbar": {
             "outlinewidth": 0,
             "ticks": ""
            },
            "colorscale": [
             [
              0,
              "#0d0887"
             ],
             [
              0.1111111111111111,
              "#46039f"
             ],
             [
              0.2222222222222222,
              "#7201a8"
             ],
             [
              0.3333333333333333,
              "#9c179e"
             ],
             [
              0.4444444444444444,
              "#bd3786"
             ],
             [
              0.5555555555555556,
              "#d8576b"
             ],
             [
              0.6666666666666666,
              "#ed7953"
             ],
             [
              0.7777777777777778,
              "#fb9f3a"
             ],
             [
              0.8888888888888888,
              "#fdca26"
             ],
             [
              1,
              "#f0f921"
             ]
            ],
            "type": "histogram2d"
           }
          ],
          "histogram2dcontour": [
           {
            "colorbar": {
             "outlinewidth": 0,
             "ticks": ""
            },
            "colorscale": [
             [
              0,
              "#0d0887"
             ],
             [
              0.1111111111111111,
              "#46039f"
             ],
             [
              0.2222222222222222,
              "#7201a8"
             ],
             [
              0.3333333333333333,
              "#9c179e"
             ],
             [
              0.4444444444444444,
              "#bd3786"
             ],
             [
              0.5555555555555556,
              "#d8576b"
             ],
             [
              0.6666666666666666,
              "#ed7953"
             ],
             [
              0.7777777777777778,
              "#fb9f3a"
             ],
             [
              0.8888888888888888,
              "#fdca26"
             ],
             [
              1,
              "#f0f921"
             ]
            ],
            "type": "histogram2dcontour"
           }
          ],
          "mesh3d": [
           {
            "colorbar": {
             "outlinewidth": 0,
             "ticks": ""
            },
            "type": "mesh3d"
           }
          ],
          "parcoords": [
           {
            "line": {
             "colorbar": {
              "outlinewidth": 0,
              "ticks": ""
             }
            },
            "type": "parcoords"
           }
          ],
          "pie": [
           {
            "automargin": true,
            "type": "pie"
           }
          ],
          "scatter": [
           {
            "fillpattern": {
             "fillmode": "overlay",
             "size": 10,
             "solidity": 0.2
            },
            "type": "scatter"
           }
          ],
          "scatter3d": [
           {
            "line": {
             "colorbar": {
              "outlinewidth": 0,
              "ticks": ""
             }
            },
            "marker": {
             "colorbar": {
              "outlinewidth": 0,
              "ticks": ""
             }
            },
            "type": "scatter3d"
           }
          ],
          "scattercarpet": [
           {
            "marker": {
             "colorbar": {
              "outlinewidth": 0,
              "ticks": ""
             }
            },
            "type": "scattercarpet"
           }
          ],
          "scattergeo": [
           {
            "marker": {
             "colorbar": {
              "outlinewidth": 0,
              "ticks": ""
             }
            },
            "type": "scattergeo"
           }
          ],
          "scattergl": [
           {
            "marker": {
             "colorbar": {
              "outlinewidth": 0,
              "ticks": ""
             }
            },
            "type": "scattergl"
           }
          ],
          "scattermapbox": [
           {
            "marker": {
             "colorbar": {
              "outlinewidth": 0,
              "ticks": ""
             }
            },
            "type": "scattermapbox"
           }
          ],
          "scatterpolar": [
           {
            "marker": {
             "colorbar": {
              "outlinewidth": 0,
              "ticks": ""
             }
            },
            "type": "scatterpolar"
           }
          ],
          "scatterpolargl": [
           {
            "marker": {
             "colorbar": {
              "outlinewidth": 0,
              "ticks": ""
             }
            },
            "type": "scatterpolargl"
           }
          ],
          "scatterternary": [
           {
            "marker": {
             "colorbar": {
              "outlinewidth": 0,
              "ticks": ""
             }
            },
            "type": "scatterternary"
           }
          ],
          "surface": [
           {
            "colorbar": {
             "outlinewidth": 0,
             "ticks": ""
            },
            "colorscale": [
             [
              0,
              "#0d0887"
             ],
             [
              0.1111111111111111,
              "#46039f"
             ],
             [
              0.2222222222222222,
              "#7201a8"
             ],
             [
              0.3333333333333333,
              "#9c179e"
             ],
             [
              0.4444444444444444,
              "#bd3786"
             ],
             [
              0.5555555555555556,
              "#d8576b"
             ],
             [
              0.6666666666666666,
              "#ed7953"
             ],
             [
              0.7777777777777778,
              "#fb9f3a"
             ],
             [
              0.8888888888888888,
              "#fdca26"
             ],
             [
              1,
              "#f0f921"
             ]
            ],
            "type": "surface"
           }
          ],
          "table": [
           {
            "cells": {
             "fill": {
              "color": "#EBF0F8"
             },
             "line": {
              "color": "white"
             }
            },
            "header": {
             "fill": {
              "color": "#C8D4E3"
             },
             "line": {
              "color": "white"
             }
            },
            "type": "table"
           }
          ]
         },
         "layout": {
          "annotationdefaults": {
           "arrowcolor": "#2a3f5f",
           "arrowhead": 0,
           "arrowwidth": 1
          },
          "autotypenumbers": "strict",
          "coloraxis": {
           "colorbar": {
            "outlinewidth": 0,
            "ticks": ""
           }
          },
          "colorscale": {
           "diverging": [
            [
             0,
             "#8e0152"
            ],
            [
             0.1,
             "#c51b7d"
            ],
            [
             0.2,
             "#de77ae"
            ],
            [
             0.3,
             "#f1b6da"
            ],
            [
             0.4,
             "#fde0ef"
            ],
            [
             0.5,
             "#f7f7f7"
            ],
            [
             0.6,
             "#e6f5d0"
            ],
            [
             0.7,
             "#b8e186"
            ],
            [
             0.8,
             "#7fbc41"
            ],
            [
             0.9,
             "#4d9221"
            ],
            [
             1,
             "#276419"
            ]
           ],
           "sequential": [
            [
             0,
             "#0d0887"
            ],
            [
             0.1111111111111111,
             "#46039f"
            ],
            [
             0.2222222222222222,
             "#7201a8"
            ],
            [
             0.3333333333333333,
             "#9c179e"
            ],
            [
             0.4444444444444444,
             "#bd3786"
            ],
            [
             0.5555555555555556,
             "#d8576b"
            ],
            [
             0.6666666666666666,
             "#ed7953"
            ],
            [
             0.7777777777777778,
             "#fb9f3a"
            ],
            [
             0.8888888888888888,
             "#fdca26"
            ],
            [
             1,
             "#f0f921"
            ]
           ],
           "sequentialminus": [
            [
             0,
             "#0d0887"
            ],
            [
             0.1111111111111111,
             "#46039f"
            ],
            [
             0.2222222222222222,
             "#7201a8"
            ],
            [
             0.3333333333333333,
             "#9c179e"
            ],
            [
             0.4444444444444444,
             "#bd3786"
            ],
            [
             0.5555555555555556,
             "#d8576b"
            ],
            [
             0.6666666666666666,
             "#ed7953"
            ],
            [
             0.7777777777777778,
             "#fb9f3a"
            ],
            [
             0.8888888888888888,
             "#fdca26"
            ],
            [
             1,
             "#f0f921"
            ]
           ]
          },
          "colorway": [
           "#636efa",
           "#EF553B",
           "#00cc96",
           "#ab63fa",
           "#FFA15A",
           "#19d3f3",
           "#FF6692",
           "#B6E880",
           "#FF97FF",
           "#FECB52"
          ],
          "font": {
           "color": "#2a3f5f"
          },
          "geo": {
           "bgcolor": "white",
           "lakecolor": "white",
           "landcolor": "#E5ECF6",
           "showlakes": true,
           "showland": true,
           "subunitcolor": "white"
          },
          "hoverlabel": {
           "align": "left"
          },
          "hovermode": "closest",
          "mapbox": {
           "style": "light"
          },
          "paper_bgcolor": "white",
          "plot_bgcolor": "#E5ECF6",
          "polar": {
           "angularaxis": {
            "gridcolor": "white",
            "linecolor": "white",
            "ticks": ""
           },
           "bgcolor": "#E5ECF6",
           "radialaxis": {
            "gridcolor": "white",
            "linecolor": "white",
            "ticks": ""
           }
          },
          "scene": {
           "xaxis": {
            "backgroundcolor": "#E5ECF6",
            "gridcolor": "white",
            "gridwidth": 2,
            "linecolor": "white",
            "showbackground": true,
            "ticks": "",
            "zerolinecolor": "white"
           },
           "yaxis": {
            "backgroundcolor": "#E5ECF6",
            "gridcolor": "white",
            "gridwidth": 2,
            "linecolor": "white",
            "showbackground": true,
            "ticks": "",
            "zerolinecolor": "white"
           },
           "zaxis": {
            "backgroundcolor": "#E5ECF6",
            "gridcolor": "white",
            "gridwidth": 2,
            "linecolor": "white",
            "showbackground": true,
            "ticks": "",
            "zerolinecolor": "white"
           }
          },
          "shapedefaults": {
           "line": {
            "color": "#2a3f5f"
           }
          },
          "ternary": {
           "aaxis": {
            "gridcolor": "white",
            "linecolor": "white",
            "ticks": ""
           },
           "baxis": {
            "gridcolor": "white",
            "linecolor": "white",
            "ticks": ""
           },
           "bgcolor": "#E5ECF6",
           "caxis": {
            "gridcolor": "white",
            "linecolor": "white",
            "ticks": ""
           }
          },
          "title": {
           "x": 0.05
          },
          "xaxis": {
           "automargin": true,
           "gridcolor": "white",
           "linecolor": "white",
           "ticks": "",
           "title": {
            "standoff": 15
           },
           "zerolinecolor": "white",
           "zerolinewidth": 2
          },
          "yaxis": {
           "automargin": true,
           "gridcolor": "white",
           "linecolor": "white",
           "ticks": "",
           "title": {
            "standoff": 15
           },
           "zerolinecolor": "white",
           "zerolinewidth": 2
          }
         }
        },
        "title": {
         "text": "Sankey Diagram - Electric Vehicle Flow"
        }
       }
      },
      "text/html": [
       "<div>                            <div id=\"6e0fa6ef-45d8-46bc-8e48-e78e8392af67\" class=\"plotly-graph-div\" style=\"height:525px; width:100%;\"></div>            <script type=\"text/javascript\">                require([\"plotly\"], function(Plotly) {                    window.PLOTLYENV=window.PLOTLYENV || {};                                    if (document.getElementById(\"6e0fa6ef-45d8-46bc-8e48-e78e8392af67\")) {                    Plotly.newPlot(                        \"6e0fa6ef-45d8-46bc-8e48-e78e8392af67\",                        [{\"link\":{\"source\":[\"BONNEVILLE POWER ADMINISTRATION\",\"Battery EV\",\"BONNEVILLE POWER ADMINISTRATION\",\"Battery EV\",\"BONNEVILLE POWER ADMINISTRATION\",\"Battery EV\",\"BONNEVILLE POWER ADMINISTRATION\",\"Plug-in Hybrid EV\",\"BONNEVILLE POWER ADMINISTRATION\",\"Plug-in Hybrid EV\",\"CITY OF SEATTLE - (WA)\",\"Battery EV\",\"CITY OF SEATTLE - (WA)\",\"Battery EV\",\"CITY OF SEATTLE - (WA)\",\"Battery EV\",\"CITY OF SEATTLE - (WA)\",\"Plug-in Hybrid EV\",\"CITY OF SEATTLE - (WA)\",\"Plug-in Hybrid EV\",\"CITY OF TACOMA - (WA)\",\"Battery EV\",\"CITY OF TACOMA - (WA)\",\"Battery EV\",\"CITY OF TACOMA - (WA)\",\"Battery EV\",\"CITY OF TACOMA - (WA)\",\"Plug-in Hybrid EV\",\"CITY OF TACOMA - (WA)\",\"Plug-in Hybrid EV\",\"PACIFICORP\",\"Battery EV\",\"PACIFICORP\",\"Battery EV\",\"PACIFICORP\",\"Plug-in Hybrid EV\",\"PACIFICORP\",\"Plug-in Hybrid EV\",\"PUGET SOUND ENERGY INC\",\"Battery EV\",\"PUGET SOUND ENERGY INC\",\"Battery EV\",\"PUGET SOUND ENERGY INC\",\"Battery EV\",\"PUGET SOUND ENERGY INC\",\"Plug-in Hybrid EV\",\"PUGET SOUND ENERGY INC\",\"Plug-in Hybrid EV\"],\"target\":[\"Battery EV\",\"Eligible\",\"Battery EV\",\"Not eligible\",\"Battery EV\",\"Unknown\",\"Plug-in Hybrid EV\",\"Eligible\",\"Plug-in Hybrid EV\",\"Not eligible\",\"Battery EV\",\"Eligible\",\"Battery EV\",\"Not eligible\",\"Battery EV\",\"Unknown\",\"Plug-in Hybrid EV\",\"Eligible\",\"Plug-in Hybrid EV\",\"Not eligible\",\"Battery EV\",\"Eligible\",\"Battery EV\",\"Not eligible\",\"Battery EV\",\"Unknown\",\"Plug-in Hybrid EV\",\"Eligible\",\"Plug-in Hybrid EV\",\"Not eligible\",\"Battery EV\",\"Eligible\",\"Battery EV\",\"Unknown\",\"Plug-in Hybrid EV\",\"Eligible\",\"Plug-in Hybrid EV\",\"Not eligible\",\"Battery EV\",\"Eligible\",\"Battery EV\",\"Not eligible\",\"Battery EV\",\"Unknown\",\"Plug-in Hybrid EV\",\"Eligible\",\"Plug-in Hybrid EV\",\"Not eligible\"],\"value\":[5236,5236,2,2,8121,8121,2593,2593,2622,2622,4554,4554,1,1,7212,7212,1399,1399,1630,1630,4881,4881,1,1,7528,7528,1467,1467,1723,1723,328,328,535,535,188,188,194,194,26834,26834,4,4,52267,52267,9510,9510,10196,10196]},\"node\":{\"label\":[\"Electric Utility\",\"Electric Utility\",\"Electric Utility\",\"Electric Utility\",\"Electric Utility\",\"Electric Utility\",\"Electric Utility\",\"Electric Utility\",\"Electric Utility\",\"Electric Utility\",\"Electric Utility\",\"Electric Utility\",\"Electric Utility\",\"Electric Utility\",\"Electric Utility\",\"Electric Utility\",\"Electric Utility\",\"Electric Utility\",\"Electric Utility\",\"Electric Utility\",\"Electric Utility\",\"Electric Utility\",\"Electric Utility\",\"Electric Utility\",\"Electric Utility\",\"Electric Utility\",\"Electric Utility\",\"Electric Utility\",\"Electric Utility\",\"Electric Utility\",\"Electric Utility\",\"Electric Utility\",\"Electric Utility\",\"Electric Utility\",\"Electric Utility\",\"Electric Vehicle Type\",\"Electric Vehicle Type\",\"CAFV Eligibility\",\"CAFV Eligibility\",\"CAFV Eligibility\"],\"line\":{\"color\":\"black\",\"width\":0.5},\"pad\":15,\"thickness\":20},\"type\":\"sankey\"}],                        {\"template\":{\"data\":{\"histogram2dcontour\":[{\"type\":\"histogram2dcontour\",\"colorbar\":{\"outlinewidth\":0,\"ticks\":\"\"},\"colorscale\":[[0.0,\"#0d0887\"],[0.1111111111111111,\"#46039f\"],[0.2222222222222222,\"#7201a8\"],[0.3333333333333333,\"#9c179e\"],[0.4444444444444444,\"#bd3786\"],[0.5555555555555556,\"#d8576b\"],[0.6666666666666666,\"#ed7953\"],[0.7777777777777778,\"#fb9f3a\"],[0.8888888888888888,\"#fdca26\"],[1.0,\"#f0f921\"]]}],\"choropleth\":[{\"type\":\"choropleth\",\"colorbar\":{\"outlinewidth\":0,\"ticks\":\"\"}}],\"histogram2d\":[{\"type\":\"histogram2d\",\"colorbar\":{\"outlinewidth\":0,\"ticks\":\"\"},\"colorscale\":[[0.0,\"#0d0887\"],[0.1111111111111111,\"#46039f\"],[0.2222222222222222,\"#7201a8\"],[0.3333333333333333,\"#9c179e\"],[0.4444444444444444,\"#bd3786\"],[0.5555555555555556,\"#d8576b\"],[0.6666666666666666,\"#ed7953\"],[0.7777777777777778,\"#fb9f3a\"],[0.8888888888888888,\"#fdca26\"],[1.0,\"#f0f921\"]]}],\"heatmap\":[{\"type\":\"heatmap\",\"colorbar\":{\"outlinewidth\":0,\"ticks\":\"\"},\"colorscale\":[[0.0,\"#0d0887\"],[0.1111111111111111,\"#46039f\"],[0.2222222222222222,\"#7201a8\"],[0.3333333333333333,\"#9c179e\"],[0.4444444444444444,\"#bd3786\"],[0.5555555555555556,\"#d8576b\"],[0.6666666666666666,\"#ed7953\"],[0.7777777777777778,\"#fb9f3a\"],[0.8888888888888888,\"#fdca26\"],[1.0,\"#f0f921\"]]}],\"heatmapgl\":[{\"type\":\"heatmapgl\",\"colorbar\":{\"outlinewidth\":0,\"ticks\":\"\"},\"colorscale\":[[0.0,\"#0d0887\"],[0.1111111111111111,\"#46039f\"],[0.2222222222222222,\"#7201a8\"],[0.3333333333333333,\"#9c179e\"],[0.4444444444444444,\"#bd3786\"],[0.5555555555555556,\"#d8576b\"],[0.6666666666666666,\"#ed7953\"],[0.7777777777777778,\"#fb9f3a\"],[0.8888888888888888,\"#fdca26\"],[1.0,\"#f0f921\"]]}],\"contourcarpet\":[{\"type\":\"contourcarpet\",\"colorbar\":{\"outlinewidth\":0,\"ticks\":\"\"}}],\"contour\":[{\"type\":\"contour\",\"colorbar\":{\"outlinewidth\":0,\"ticks\":\"\"},\"colorscale\":[[0.0,\"#0d0887\"],[0.1111111111111111,\"#46039f\"],[0.2222222222222222,\"#7201a8\"],[0.3333333333333333,\"#9c179e\"],[0.4444444444444444,\"#bd3786\"],[0.5555555555555556,\"#d8576b\"],[0.6666666666666666,\"#ed7953\"],[0.7777777777777778,\"#fb9f3a\"],[0.8888888888888888,\"#fdca26\"],[1.0,\"#f0f921\"]]}],\"surface\":[{\"type\":\"surface\",\"colorbar\":{\"outlinewidth\":0,\"ticks\":\"\"},\"colorscale\":[[0.0,\"#0d0887\"],[0.1111111111111111,\"#46039f\"],[0.2222222222222222,\"#7201a8\"],[0.3333333333333333,\"#9c179e\"],[0.4444444444444444,\"#bd3786\"],[0.5555555555555556,\"#d8576b\"],[0.6666666666666666,\"#ed7953\"],[0.7777777777777778,\"#fb9f3a\"],[0.8888888888888888,\"#fdca26\"],[1.0,\"#f0f921\"]]}],\"mesh3d\":[{\"type\":\"mesh3d\",\"colorbar\":{\"outlinewidth\":0,\"ticks\":\"\"}}],\"scatter\":[{\"fillpattern\":{\"fillmode\":\"overlay\",\"size\":10,\"solidity\":0.2},\"type\":\"scatter\"}],\"parcoords\":[{\"type\":\"parcoords\",\"line\":{\"colorbar\":{\"outlinewidth\":0,\"ticks\":\"\"}}}],\"scatterpolargl\":[{\"type\":\"scatterpolargl\",\"marker\":{\"colorbar\":{\"outlinewidth\":0,\"ticks\":\"\"}}}],\"bar\":[{\"error_x\":{\"color\":\"#2a3f5f\"},\"error_y\":{\"color\":\"#2a3f5f\"},\"marker\":{\"line\":{\"color\":\"#E5ECF6\",\"width\":0.5},\"pattern\":{\"fillmode\":\"overlay\",\"size\":10,\"solidity\":0.2}},\"type\":\"bar\"}],\"scattergeo\":[{\"type\":\"scattergeo\",\"marker\":{\"colorbar\":{\"outlinewidth\":0,\"ticks\":\"\"}}}],\"scatterpolar\":[{\"type\":\"scatterpolar\",\"marker\":{\"colorbar\":{\"outlinewidth\":0,\"ticks\":\"\"}}}],\"histogram\":[{\"marker\":{\"pattern\":{\"fillmode\":\"overlay\",\"size\":10,\"solidity\":0.2}},\"type\":\"histogram\"}],\"scattergl\":[{\"type\":\"scattergl\",\"marker\":{\"colorbar\":{\"outlinewidth\":0,\"ticks\":\"\"}}}],\"scatter3d\":[{\"type\":\"scatter3d\",\"line\":{\"colorbar\":{\"outlinewidth\":0,\"ticks\":\"\"}},\"marker\":{\"colorbar\":{\"outlinewidth\":0,\"ticks\":\"\"}}}],\"scattermapbox\":[{\"type\":\"scattermapbox\",\"marker\":{\"colorbar\":{\"outlinewidth\":0,\"ticks\":\"\"}}}],\"scatterternary\":[{\"type\":\"scatterternary\",\"marker\":{\"colorbar\":{\"outlinewidth\":0,\"ticks\":\"\"}}}],\"scattercarpet\":[{\"type\":\"scattercarpet\",\"marker\":{\"colorbar\":{\"outlinewidth\":0,\"ticks\":\"\"}}}],\"carpet\":[{\"aaxis\":{\"endlinecolor\":\"#2a3f5f\",\"gridcolor\":\"white\",\"linecolor\":\"white\",\"minorgridcolor\":\"white\",\"startlinecolor\":\"#2a3f5f\"},\"baxis\":{\"endlinecolor\":\"#2a3f5f\",\"gridcolor\":\"white\",\"linecolor\":\"white\",\"minorgridcolor\":\"white\",\"startlinecolor\":\"#2a3f5f\"},\"type\":\"carpet\"}],\"table\":[{\"cells\":{\"fill\":{\"color\":\"#EBF0F8\"},\"line\":{\"color\":\"white\"}},\"header\":{\"fill\":{\"color\":\"#C8D4E3\"},\"line\":{\"color\":\"white\"}},\"type\":\"table\"}],\"barpolar\":[{\"marker\":{\"line\":{\"color\":\"#E5ECF6\",\"width\":0.5},\"pattern\":{\"fillmode\":\"overlay\",\"size\":10,\"solidity\":0.2}},\"type\":\"barpolar\"}],\"pie\":[{\"automargin\":true,\"type\":\"pie\"}]},\"layout\":{\"autotypenumbers\":\"strict\",\"colorway\":[\"#636efa\",\"#EF553B\",\"#00cc96\",\"#ab63fa\",\"#FFA15A\",\"#19d3f3\",\"#FF6692\",\"#B6E880\",\"#FF97FF\",\"#FECB52\"],\"font\":{\"color\":\"#2a3f5f\"},\"hovermode\":\"closest\",\"hoverlabel\":{\"align\":\"left\"},\"paper_bgcolor\":\"white\",\"plot_bgcolor\":\"#E5ECF6\",\"polar\":{\"bgcolor\":\"#E5ECF6\",\"angularaxis\":{\"gridcolor\":\"white\",\"linecolor\":\"white\",\"ticks\":\"\"},\"radialaxis\":{\"gridcolor\":\"white\",\"linecolor\":\"white\",\"ticks\":\"\"}},\"ternary\":{\"bgcolor\":\"#E5ECF6\",\"aaxis\":{\"gridcolor\":\"white\",\"linecolor\":\"white\",\"ticks\":\"\"},\"baxis\":{\"gridcolor\":\"white\",\"linecolor\":\"white\",\"ticks\":\"\"},\"caxis\":{\"gridcolor\":\"white\",\"linecolor\":\"white\",\"ticks\":\"\"}},\"coloraxis\":{\"colorbar\":{\"outlinewidth\":0,\"ticks\":\"\"}},\"colorscale\":{\"sequential\":[[0.0,\"#0d0887\"],[0.1111111111111111,\"#46039f\"],[0.2222222222222222,\"#7201a8\"],[0.3333333333333333,\"#9c179e\"],[0.4444444444444444,\"#bd3786\"],[0.5555555555555556,\"#d8576b\"],[0.6666666666666666,\"#ed7953\"],[0.7777777777777778,\"#fb9f3a\"],[0.8888888888888888,\"#fdca26\"],[1.0,\"#f0f921\"]],\"sequentialminus\":[[0.0,\"#0d0887\"],[0.1111111111111111,\"#46039f\"],[0.2222222222222222,\"#7201a8\"],[0.3333333333333333,\"#9c179e\"],[0.4444444444444444,\"#bd3786\"],[0.5555555555555556,\"#d8576b\"],[0.6666666666666666,\"#ed7953\"],[0.7777777777777778,\"#fb9f3a\"],[0.8888888888888888,\"#fdca26\"],[1.0,\"#f0f921\"]],\"diverging\":[[0,\"#8e0152\"],[0.1,\"#c51b7d\"],[0.2,\"#de77ae\"],[0.3,\"#f1b6da\"],[0.4,\"#fde0ef\"],[0.5,\"#f7f7f7\"],[0.6,\"#e6f5d0\"],[0.7,\"#b8e186\"],[0.8,\"#7fbc41\"],[0.9,\"#4d9221\"],[1,\"#276419\"]]},\"xaxis\":{\"gridcolor\":\"white\",\"linecolor\":\"white\",\"ticks\":\"\",\"title\":{\"standoff\":15},\"zerolinecolor\":\"white\",\"automargin\":true,\"zerolinewidth\":2},\"yaxis\":{\"gridcolor\":\"white\",\"linecolor\":\"white\",\"ticks\":\"\",\"title\":{\"standoff\":15},\"zerolinecolor\":\"white\",\"automargin\":true,\"zerolinewidth\":2},\"scene\":{\"xaxis\":{\"backgroundcolor\":\"#E5ECF6\",\"gridcolor\":\"white\",\"linecolor\":\"white\",\"showbackground\":true,\"ticks\":\"\",\"zerolinecolor\":\"white\",\"gridwidth\":2},\"yaxis\":{\"backgroundcolor\":\"#E5ECF6\",\"gridcolor\":\"white\",\"linecolor\":\"white\",\"showbackground\":true,\"ticks\":\"\",\"zerolinecolor\":\"white\",\"gridwidth\":2},\"zaxis\":{\"backgroundcolor\":\"#E5ECF6\",\"gridcolor\":\"white\",\"linecolor\":\"white\",\"showbackground\":true,\"ticks\":\"\",\"zerolinecolor\":\"white\",\"gridwidth\":2}},\"shapedefaults\":{\"line\":{\"color\":\"#2a3f5f\"}},\"annotationdefaults\":{\"arrowcolor\":\"#2a3f5f\",\"arrowhead\":0,\"arrowwidth\":1},\"geo\":{\"bgcolor\":\"white\",\"landcolor\":\"#E5ECF6\",\"subunitcolor\":\"white\",\"showland\":true,\"showlakes\":true,\"lakecolor\":\"white\"},\"title\":{\"x\":0.05},\"mapbox\":{\"style\":\"light\"}}},\"title\":{\"text\":\"Sankey Diagram - Electric Vehicle Flow\"},\"font\":{\"size\":10}},                        {\"responsive\": true}                    ).then(function(){\n",
       "                            \n",
       "var gd = document.getElementById('6e0fa6ef-45d8-46bc-8e48-e78e8392af67');\n",
       "var x = new MutationObserver(function (mutations, observer) {{\n",
       "        var display = window.getComputedStyle(gd).display;\n",
       "        if (!display || display === 'none') {{\n",
       "            console.log([gd, 'removed!']);\n",
       "            Plotly.purge(gd);\n",
       "            observer.disconnect();\n",
       "        }}\n",
       "}});\n",
       "\n",
       "// Listen for the removal of the full notebook cells\n",
       "var notebookContainer = gd.closest('#notebook-container');\n",
       "if (notebookContainer) {{\n",
       "    x.observe(notebookContainer, {childList: true});\n",
       "}}\n",
       "\n",
       "// Listen for the clearing of the current output cell\n",
       "var outputEl = gd.closest('.output');\n",
       "if (outputEl) {{\n",
       "    x.observe(outputEl, {childList: true});\n",
       "}}\n",
       "\n",
       "                        })                };                });            </script>        </div>"
      ]
     },
     "metadata": {},
     "output_type": "display_data"
    }
   ],
   "source": [
    "top_5_utilities = df_cleaned['Electric Utility'].value_counts().head(5).index\n",
    "\n",
    "# Filter the DataFrame for the top 5 electric utilities\n",
    "df_top_5 = df_cleaned[df_cleaned['Electric Utility'].isin(top_5_utilities)]\n",
    "grouped_data = df_top_5.groupby(['Electric Utility', 'Electric Vehicle Type', 'CAFV Eligibility']).size().reset_index(name='Count')\n",
    "\n",
    "# Create source, target, and value lists for Sankey diagram\n",
    "sources = []\n",
    "targets = []\n",
    "values = []\n",
    "\n",
    "for index, row in grouped_data.iterrows():\n",
    "    sources.append(row['Electric Utility'])\n",
    "    targets.append(row['Electric Vehicle Type'])\n",
    "    values.append(row['Count'])\n",
    "    \n",
    "    targets.append(row['CAFV Eligibility'])\n",
    "    sources.append(row['Electric Vehicle Type'])\n",
    "    values.append(row['Count'])\n",
    "\n",
    "# Create Sankey diagram\n",
    "fig = go.Figure(data=[go.Sankey(\n",
    "    node=dict(\n",
    "        pad=15,\n",
    "        thickness=20,\n",
    "        line=dict(color=\"black\", width=0.5),\n",
    "        label=[\"Electric Utility\"] * len(df_cleaned['Electric Utility'].unique()) +\n",
    "              [\"Electric Vehicle Type\"] * len(df_cleaned['Electric Vehicle Type'].unique()) +\n",
    "              [\"CAFV Eligibility\"] * len(df_cleaned['CAFV Eligibility'].unique()),\n",
    "    ),\n",
    "    link=dict(\n",
    "        source=sources,\n",
    "        target=targets,\n",
    "        value=values\n",
    "    )\n",
    ")])\n",
    "\n",
    "# Update layout\n",
    "fig.update_layout(title_text=\"Sankey Diagram - Electric Vehicle Flow\",\n",
    "                  font_size=10)\n",
    "\n",
    "# Show plot\n",
    "fig.show()"
   ]
  },
  {
   "cell_type": "code",
   "execution_count": null,
   "id": "3ebeb77e",
   "metadata": {},
   "outputs": [],
   "source": []
  },
  {
   "cell_type": "markdown",
   "id": "c1c43f15",
   "metadata": {},
   "source": [
    "#### 3. What insights can we gain about the future of electric mobility by examining the data on newer models and their technological features? For instance, how are factors like electric range and Electric vehicle type evolving with advancements in electric vehicle technology?"
   ]
  },
  {
   "cell_type": "code",
   "execution_count": 47,
   "id": "8f88d08f",
   "metadata": {},
   "outputs": [
    {
     "data": {
      "image/png": "[encoded data removed]",
      "text/plain": [
       "<Figure size 864x288 with 2 Axes>"
      ]
     },
     "metadata": {
      "needs_background": "light"
     },
     "output_type": "display_data"
    }
   ],
   "source": [
    "fig, axes = plt.subplots(1, 2, figsize=(12, 4))\n",
    "\n",
    "axes = axes.flatten()\n",
    "for i, column in enumerate(['Model Year', 'Electric Range']):\n",
    "    sns.boxplot(data=df_cleaned[column], ax=axes[i])\n",
    "    axes[i].set_title(column)\n",
    "\n",
    "plt.tight_layout()\n",
    "plt.show()"
   ]
  },
  {
   "cell_type": "markdown",
   "id": "bceb4ffd",
   "metadata": {},
   "source": [
    "Well, the plot shows a lot of outliers in both the features. The boxplot for Model Year indicates that majority of production of EV was around 2020, and a few exist as early as 2000. It seems plausible, let's keep this data since it could lead to some good analysis.\\\n",
    "Electric range on the other hand (as predicted), has a lot of values in the lower range. Well this could indicate that most general purpose EVs have electric range in that range, and there are certain higher end Vehicles that offer a huge electric range. My assumption is that some of the newer models possess the capability of superior electric range. We'll see what it is in our analysis ahead."
   ]
  },
  {
   "cell_type": "code",
   "execution_count": null,
   "id": "4f53db28",
   "metadata": {},
   "outputs": [],
   "source": []
  },
  {
   "cell_type": "code",
   "execution_count": null,
   "id": "0a3aba45",
   "metadata": {},
   "outputs": [],
   "source": []
  },
  {
   "cell_type": "code",
   "execution_count": null,
   "id": "b86c4b2e",
   "metadata": {},
   "outputs": [],
   "source": []
  },
  {
   "cell_type": "code",
   "execution_count": null,
   "id": "fa01fe3e",
   "metadata": {},
   "outputs": [],
   "source": []
  }
 ],
 "metadata": {
  "kernelspec": {
   "display_name": "Python 3 (ipykernel)",
   "language": "python",
   "name": "python3"
  },
  "language_info": {
   "codemirror_mode": {
    "name": "ipython",
    "version": 3
   },
   "file_extension": ".py",
   "mimetype": "text/x-python",
   "name": "python",
   "nbconvert_exporter": "python",
   "pygments_lexer": "ipython3",
   "version": "3.9.7"
  }
 },
 "nbformat": 4,
 "nbformat_minor": 5
}
